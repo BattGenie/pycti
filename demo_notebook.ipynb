{
 "cells": [
  {
   "attachments": {},
   "cell_type": "markdown",
   "metadata": {},
   "source": [
    "Welcome to the `pycti` demo! Here we will walk through the basic functionality of the module. \n",
    "\n",
    "----\n",
    "\n",
    " Before we can talk to a Arbin cycler we must have a Arbin cycler to talk to. Testing software functionality on a real cycler is dangerous so we've created a submodule `arbinspoofer` to emulate some of the behavior of the Arbin software. Note that if you want this demo to work with your Arbin cycler you will need to set the correct IP and port."
   ]
  },
  {
   "cell_type": "code",
   "execution_count": 1,
   "metadata": {},
   "outputs": [],
   "source": [
    "from pycti.arbinspoofer import ArbinSpoofer\n",
    "\n",
    "SPOOFER_CONFIG_DICT = {\n",
    "    \"ip\": \"127.0.0.1\",\n",
    "    \"port\": 8956,\n",
    "    \"num_channels\": 16\n",
    "}\n",
    "arbin_spoofer = ArbinSpoofer(SPOOFER_CONFIG_DICT)\n",
    "arbin_spoofer.start()"
   ]
  },
  {
   "attachments": {},
   "cell_type": "markdown",
   "metadata": {},
   "source": [
    "Wunderbar! Now let's start with creating a `CyclerInterface` class instance. Like the `ArbinSpoofer`, a class instance of `CyclerInterface`:"
   ]
  },
  {
   "cell_type": "code",
   "execution_count": 2,
   "metadata": {},
   "outputs": [],
   "source": [
    "from pycti import CyclerInterface\n",
    "\n",
    "CYCLER_INTERFACE_CONFIG = {\n",
    "    \"ip_address\": SPOOFER_CONFIG_DICT['ip'],\n",
    "    \"port\": SPOOFER_CONFIG_DICT['port'],\n",
    "    \"timeout_s\": 3,\n",
    "    \"msg_buffer_size\": 4096\n",
    "}\n",
    "\n",
    "cycler_interface = CyclerInterface(CYCLER_INTERFACE_CONFIG)"
   ]
  },
  {
   "attachments": {},
   "cell_type": "markdown",
   "metadata": {},
   "source": [
    "With a `CyclerInterface` we can read the status of any channel on the cycler:"
   ]
  },
  {
   "cell_type": "code",
   "execution_count": 3,
   "metadata": {},
   "outputs": [
    {
     "data": {
      "text/plain": [
       "{'header': 1287429013477645789,\n",
       " 'msg_length': 1779,\n",
       " 'command_code': 4005167107,\n",
       " 'extended_command_code': 0,\n",
       " 'number_of_channels': 1,\n",
       " 'channel': 0,\n",
       " 'status': 'Idle',\n",
       " 'comm_failure': 0,\n",
       " 'schedule': 'fake_schedule',\n",
       " 'testname': 'fake_testname',\n",
       " 'exit_condition': 'none',\n",
       " 'step_and_cycle_format': 'none',\n",
       " 'barcode': 'none',\n",
       " 'can_config_name': 'none',\n",
       " 'smb_config_name': 'none',\n",
       " 'master_channel': 0,\n",
       " 'test_time_s': 0.0,\n",
       " 'step_time_s': 0.0,\n",
       " 'voltage_v': 0.0,\n",
       " 'current_a': 0.0,\n",
       " 'power_w': 0.0,\n",
       " 'charge_capacity_ah': 0.0,\n",
       " 'discharge_capacity_ah': 0.0,\n",
       " 'charge_energy_wh': 0.0,\n",
       " 'discharge_energy_wh': 0.0,\n",
       " 'internal_resistance_ohm': 0.0,\n",
       " 'dvdt_vbys': 0.0,\n",
       " 'acr_ohm': 0.0,\n",
       " 'aci_ohm': 0.0,\n",
       " 'aci_phase_degrees': 0.0,\n",
       " 'aux_voltage_count': 0,\n",
       " 'aux_temperature_count': 0,\n",
       " 'aux_pressure_count': 0,\n",
       " 'aux_external_count': 0,\n",
       " 'aux_flow_count': 0,\n",
       " 'aux_ao_count': 0,\n",
       " 'aux_di_count': 0,\n",
       " 'aux_do_count': 0,\n",
       " 'aux_humidity_count': 0,\n",
       " 'aux_safety_count': 0,\n",
       " 'aux_ph_count': 0,\n",
       " 'aux_density_count': 0,\n",
       " 'bms_count': 0,\n",
       " 'smb_count': 0,\n",
       " 'aux_voltage': [],\n",
       " 'aux_voltage_dt': [],\n",
       " 'aux_temperature': [],\n",
       " 'aux_temperature_dt': [],\n",
       " 'aux_pressure': [],\n",
       " 'aux_pressure_dt': [],\n",
       " 'aux_external': [],\n",
       " 'aux_external_dt': [],\n",
       " 'aux_flow': [],\n",
       " 'aux_flow_dt': [],\n",
       " 'aux_ao': [],\n",
       " 'aux_ao_dt': [],\n",
       " 'aux_di': [],\n",
       " 'aux_di_dt': [],\n",
       " 'aux_do': [],\n",
       " 'aux_do_dt': [],\n",
       " 'aux_humidity': [],\n",
       " 'aux_humidity_dt': [],\n",
       " 'aux_safety': [],\n",
       " 'aux_safety_dt': [],\n",
       " 'aux_ph': [],\n",
       " 'aux_ph_dt': [],\n",
       " 'aux_density': [],\n",
       " 'aux_density_dt': []}"
      ]
     },
     "execution_count": 3,
     "metadata": {},
     "output_type": "execute_result"
    }
   ],
   "source": [
    "cycler_interface.read_channel_status(channel=1)"
   ]
  },
  {
   "cell_type": "code",
   "execution_count": 4,
   "metadata": {},
   "outputs": [
    {
     "data": {
      "text/plain": [
       "{'header': 1287429013477645789,\n",
       " 'msg_length': 1779,\n",
       " 'command_code': 4005167107,\n",
       " 'extended_command_code': 0,\n",
       " 'number_of_channels': 1,\n",
       " 'channel': 4,\n",
       " 'status': 'Idle',\n",
       " 'comm_failure': 0,\n",
       " 'schedule': 'fake_schedule',\n",
       " 'testname': 'fake_testname',\n",
       " 'exit_condition': 'none',\n",
       " 'step_and_cycle_format': 'none',\n",
       " 'barcode': 'none',\n",
       " 'can_config_name': 'none',\n",
       " 'smb_config_name': 'none',\n",
       " 'master_channel': 0,\n",
       " 'test_time_s': 0.0,\n",
       " 'step_time_s': 0.0,\n",
       " 'voltage_v': 0.0,\n",
       " 'current_a': 0.0,\n",
       " 'power_w': 0.0,\n",
       " 'charge_capacity_ah': 0.0,\n",
       " 'discharge_capacity_ah': 0.0,\n",
       " 'charge_energy_wh': 0.0,\n",
       " 'discharge_energy_wh': 0.0,\n",
       " 'internal_resistance_ohm': 0.0,\n",
       " 'dvdt_vbys': 0.0,\n",
       " 'acr_ohm': 0.0,\n",
       " 'aci_ohm': 0.0,\n",
       " 'aci_phase_degrees': 0.0,\n",
       " 'aux_voltage_count': 0,\n",
       " 'aux_temperature_count': 0,\n",
       " 'aux_pressure_count': 0,\n",
       " 'aux_external_count': 0,\n",
       " 'aux_flow_count': 0,\n",
       " 'aux_ao_count': 0,\n",
       " 'aux_di_count': 0,\n",
       " 'aux_do_count': 0,\n",
       " 'aux_humidity_count': 0,\n",
       " 'aux_safety_count': 0,\n",
       " 'aux_ph_count': 0,\n",
       " 'aux_density_count': 0,\n",
       " 'bms_count': 0,\n",
       " 'smb_count': 0,\n",
       " 'aux_voltage': [],\n",
       " 'aux_voltage_dt': [],\n",
       " 'aux_temperature': [],\n",
       " 'aux_temperature_dt': [],\n",
       " 'aux_pressure': [],\n",
       " 'aux_pressure_dt': [],\n",
       " 'aux_external': [],\n",
       " 'aux_external_dt': [],\n",
       " 'aux_flow': [],\n",
       " 'aux_flow_dt': [],\n",
       " 'aux_ao': [],\n",
       " 'aux_ao_dt': [],\n",
       " 'aux_di': [],\n",
       " 'aux_di_dt': [],\n",
       " 'aux_do': [],\n",
       " 'aux_do_dt': [],\n",
       " 'aux_humidity': [],\n",
       " 'aux_humidity_dt': [],\n",
       " 'aux_safety': [],\n",
       " 'aux_safety_dt': [],\n",
       " 'aux_ph': [],\n",
       " 'aux_ph_dt': [],\n",
       " 'aux_density': [],\n",
       " 'aux_density_dt': []}"
      ]
     },
     "execution_count": 4,
     "metadata": {},
     "output_type": "execute_result"
    }
   ],
   "source": [
    "cycler_interface.read_channel_status(channel=5)"
   ]
  },
  {
   "attachments": {},
   "cell_type": "markdown",
   "metadata": {},
   "source": [
    "The `CyclerInterface` class only allows for read operations with the cycler. To do more interesting we need a `ChannelInterface`:"
   ]
  },
  {
   "cell_type": "code",
   "execution_count": 7,
   "metadata": {},
   "outputs": [],
   "source": [
    "from pycti import ChannelInterface\n",
    "\n",
    "CHANNEL_INTERFACE_CONFIG = {\n",
    "  \"channel\": 1,\n",
    "  \"test_name\": \"fake_test_name\",\n",
    "  \"schedule_name\": \"Rest+207855.sdx\",\n",
    "  \"ip_address\": SPOOFER_CONFIG_DICT['ip'],\n",
    "  \"port\": SPOOFER_CONFIG_DICT['port'],\n",
    "  \"timeout_s\": 3,\n",
    "  \"msg_buffer_size\": 4096\n",
    "}\n",
    "channel_interface = ChannelInterface(CHANNEL_INTERFACE_CONFIG)"
   ]
  },
  {
   "attachments": {},
   "cell_type": "markdown",
   "metadata": {},
   "source": [
    "We do not need to specify a channel when reading channel status with a `ChannelInterface` since it is already specified in the config:"
   ]
  },
  {
   "cell_type": "code",
   "execution_count": 8,
   "metadata": {},
   "outputs": [
    {
     "data": {
      "text/plain": [
       "{'header': 1287429013477645789,\n",
       " 'msg_length': 1779,\n",
       " 'command_code': 4005167107,\n",
       " 'extended_command_code': 0,\n",
       " 'number_of_channels': 1,\n",
       " 'channel': 0,\n",
       " 'status': 'Idle',\n",
       " 'comm_failure': 0,\n",
       " 'schedule': 'fake_schedule',\n",
       " 'testname': 'fake_testname',\n",
       " 'exit_condition': 'none',\n",
       " 'step_and_cycle_format': 'none',\n",
       " 'barcode': 'none',\n",
       " 'can_config_name': 'none',\n",
       " 'smb_config_name': 'none',\n",
       " 'master_channel': 0,\n",
       " 'test_time_s': 0.0,\n",
       " 'step_time_s': 0.0,\n",
       " 'voltage_v': 0.0,\n",
       " 'current_a': 0.0,\n",
       " 'power_w': 0.0,\n",
       " 'charge_capacity_ah': 0.0,\n",
       " 'discharge_capacity_ah': 0.0,\n",
       " 'charge_energy_wh': 0.0,\n",
       " 'discharge_energy_wh': 0.0,\n",
       " 'internal_resistance_ohm': 0.0,\n",
       " 'dvdt_vbys': 0.0,\n",
       " 'acr_ohm': 0.0,\n",
       " 'aci_ohm': 0.0,\n",
       " 'aci_phase_degrees': 0.0,\n",
       " 'aux_voltage_count': 0,\n",
       " 'aux_temperature_count': 0,\n",
       " 'aux_pressure_count': 0,\n",
       " 'aux_external_count': 0,\n",
       " 'aux_flow_count': 0,\n",
       " 'aux_ao_count': 0,\n",
       " 'aux_di_count': 0,\n",
       " 'aux_do_count': 0,\n",
       " 'aux_humidity_count': 0,\n",
       " 'aux_safety_count': 0,\n",
       " 'aux_ph_count': 0,\n",
       " 'aux_density_count': 0,\n",
       " 'bms_count': 0,\n",
       " 'smb_count': 0,\n",
       " 'aux_voltage': [],\n",
       " 'aux_voltage_dt': [],\n",
       " 'aux_temperature': [],\n",
       " 'aux_temperature_dt': [],\n",
       " 'aux_pressure': [],\n",
       " 'aux_pressure_dt': [],\n",
       " 'aux_external': [],\n",
       " 'aux_external_dt': [],\n",
       " 'aux_flow': [],\n",
       " 'aux_flow_dt': [],\n",
       " 'aux_ao': [],\n",
       " 'aux_ao_dt': [],\n",
       " 'aux_di': [],\n",
       " 'aux_di_dt': [],\n",
       " 'aux_do': [],\n",
       " 'aux_do_dt': [],\n",
       " 'aux_humidity': [],\n",
       " 'aux_humidity_dt': [],\n",
       " 'aux_safety': [],\n",
       " 'aux_safety_dt': [],\n",
       " 'aux_ph': [],\n",
       " 'aux_ph_dt': [],\n",
       " 'aux_density': [],\n",
       " 'aux_density_dt': []}"
      ]
     },
     "execution_count": 8,
     "metadata": {},
     "output_type": "execute_result"
    }
   ],
   "source": [
    "channel_interface.read_channel_status()"
   ]
  },
  {
   "attachments": {},
   "cell_type": "markdown",
   "metadata": {},
   "source": [
    "We can also do things like assign a schedule to a channel. This method assigns the schedule to the channel defined in the config:"
   ]
  },
  {
   "cell_type": "code",
   "execution_count": 9,
   "metadata": {},
   "outputs": [
    {
     "data": {
      "text/plain": [
       "True"
      ]
     },
     "execution_count": 9,
     "metadata": {},
     "output_type": "execute_result"
    }
   ],
   "source": [
    "channel_interface.assign_schedule()"
   ]
  },
  {
   "attachments": {},
   "cell_type": "markdown",
   "metadata": {},
   "source": [
    "We can also start tests with the test name and schedule defined in the config:"
   ]
  },
  {
   "cell_type": "code",
   "execution_count": 10,
   "metadata": {},
   "outputs": [
    {
     "data": {
      "text/plain": [
       "True"
      ]
     },
     "execution_count": 10,
     "metadata": {},
     "output_type": "execute_result"
    }
   ],
   "source": [
    "channel_interface.start_test()"
   ]
  },
  {
   "attachments": {},
   "cell_type": "markdown",
   "metadata": {},
   "source": [
    "For running tests we can set the test meta-variable vales:"
   ]
  },
  {
   "cell_type": "code",
   "execution_count": 11,
   "metadata": {},
   "outputs": [
    {
     "data": {
      "text/plain": [
       "True"
      ]
     },
     "execution_count": 11,
     "metadata": {},
     "output_type": "execute_result"
    }
   ],
   "source": [
    "channel_interface.set_meta_variable(mv_num = 1, mv_value=3.200)"
   ]
  },
  {
   "attachments": {},
   "cell_type": "markdown",
   "metadata": {},
   "source": [
    "And we can also stop the test:"
   ]
  },
  {
   "cell_type": "code",
   "execution_count": 13,
   "metadata": {},
   "outputs": [
    {
     "data": {
      "text/plain": [
       "True"
      ]
     },
     "execution_count": 13,
     "metadata": {},
     "output_type": "execute_result"
    }
   ],
   "source": [
    "channel_interface.stop_test()"
   ]
  },
  {
   "cell_type": "code",
   "execution_count": null,
   "metadata": {},
   "outputs": [],
   "source": []
  }
 ],
 "metadata": {
  "kernelspec": {
   "display_name": "base",
   "language": "python",
   "name": "python3"
  },
  "language_info": {
   "codemirror_mode": {
    "name": "ipython",
    "version": 3
   },
   "file_extension": ".py",
   "mimetype": "text/x-python",
   "name": "python",
   "nbconvert_exporter": "python",
   "pygments_lexer": "ipython3",
   "version": "3.9.7"
  },
  "orig_nbformat": 4
 },
 "nbformat": 4,
 "nbformat_minor": 2
}
